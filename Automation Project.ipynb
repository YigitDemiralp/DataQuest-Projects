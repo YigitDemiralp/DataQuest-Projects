{
 "cells": [
  {
   "cell_type": "markdown",
   "metadata": {},
   "source": [
    "# Automating Funnels"
   ]
  },
  {
   "cell_type": "markdown",
   "metadata": {},
   "source": [
    "In the cell below we are going to be converting our excel file to a python dataframe for altering.\n",
    "\n",
    "\n",
    "We define the file and sheet we are going to be working with by inputting workbook path, and the name of the sheet we are going to be working with. "
   ]
  },
  {
   "cell_type": "code",
   "execution_count": 1,
   "metadata": {
    "scrolled": true
   },
   "outputs": [
    {
     "name": "stdout",
     "output_type": "stream",
     "text": [
      "Enter the file name (eg.OAK5 WH Funnel 10.31.19), if you have done this step before and have not restarted the kernel just press enter : OAK5 WH Funnel 10.31.19\n",
      "Enter sheet name (eg.report1572545576522), if you have done this step before and have not restarted the kernel just press enter : report1572545576522\n"
     ]
    },
    {
     "data": {
      "text/html": [
       "<div>\n",
       "<style scoped>\n",
       "    .dataframe tbody tr th:only-of-type {\n",
       "        vertical-align: middle;\n",
       "    }\n",
       "\n",
       "    .dataframe tbody tr th {\n",
       "        vertical-align: top;\n",
       "    }\n",
       "\n",
       "    .dataframe thead th {\n",
       "        text-align: right;\n",
       "    }\n",
       "</style>\n",
       "<table border=\"1\" class=\"dataframe\">\n",
       "  <thead>\n",
       "    <tr style=\"text-align: right;\">\n",
       "      <th></th>\n",
       "      <th>Application eSignature Date/Time</th>\n",
       "      <th>Application ID</th>\n",
       "      <th>Step</th>\n",
       "      <th>Step: Substep</th>\n",
       "      <th>Requisition: Job Title</th>\n",
       "      <th>Requisition: Requisition Title</th>\n",
       "      <th>Location State</th>\n",
       "      <th>Requisition: Location Code: State</th>\n",
       "      <th>Candidate: Candidate Name: Candidate Name</th>\n",
       "      <th>Candidate: Current Mailing City</th>\n",
       "      <th>Candidate: Current Mailing State/Province</th>\n",
       "      <th>Candidate: Mobile Phone</th>\n",
       "      <th>Offer Out</th>\n",
       "      <th>Background Check Status</th>\n",
       "      <th>More Than One Application?</th>\n",
       "      <th>Application Withdrawn</th>\n",
       "      <th>Candidate Withdraws Detail</th>\n",
       "    </tr>\n",
       "  </thead>\n",
       "  <tbody>\n",
       "    <tr>\n",
       "      <td>0</td>\n",
       "      <td>2019-10-31 11:11:00</td>\n",
       "      <td>a012I00000k6QPS</td>\n",
       "      <td>Candidate Schedule</td>\n",
       "      <td>Candidate Schedule: Shift Selection</td>\n",
       "      <td>FC Associate I</td>\n",
       "      <td>T1 Node Requisition- OAK5 - SFO East</td>\n",
       "      <td>CA</td>\n",
       "      <td>CA</td>\n",
       "      <td>Ventricia Johnson</td>\n",
       "      <td>Oakland</td>\n",
       "      <td>California</td>\n",
       "      <td>5109042529</td>\n",
       "      <td>0.0</td>\n",
       "      <td>None</td>\n",
       "      <td>1</td>\n",
       "      <td>0</td>\n",
       "      <td>None</td>\n",
       "    </tr>\n",
       "    <tr>\n",
       "      <td>1</td>\n",
       "      <td>2019-10-31 11:06:00</td>\n",
       "      <td>a012I00000k5pAe</td>\n",
       "      <td>Candidate Schedule</td>\n",
       "      <td>Candidate Schedule: Shift Selection</td>\n",
       "      <td>FC Associate I</td>\n",
       "      <td>T1 Node Requisition- OAK5 - SFO East</td>\n",
       "      <td>CA</td>\n",
       "      <td>CA</td>\n",
       "      <td>sandra martinez</td>\n",
       "      <td>Newark</td>\n",
       "      <td>California</td>\n",
       "      <td>5107559682</td>\n",
       "      <td>0.0</td>\n",
       "      <td>None</td>\n",
       "      <td>1</td>\n",
       "      <td>0</td>\n",
       "      <td>None</td>\n",
       "    </tr>\n",
       "    <tr>\n",
       "      <td>2</td>\n",
       "      <td>2019-10-31 11:00:00</td>\n",
       "      <td>a012I00000k6PK3</td>\n",
       "      <td>Candidate Schedule</td>\n",
       "      <td>Candidate Schedule: Shift Selection</td>\n",
       "      <td>FC Associate I</td>\n",
       "      <td>T1 Node Requisition- OAK5 - SFO East</td>\n",
       "      <td>CA</td>\n",
       "      <td>CA</td>\n",
       "      <td>david Ortiz</td>\n",
       "      <td>Oklahoma City</td>\n",
       "      <td>Oklahoma</td>\n",
       "      <td>4059002040</td>\n",
       "      <td>0.0</td>\n",
       "      <td>None</td>\n",
       "      <td>0</td>\n",
       "      <td>0</td>\n",
       "      <td>None</td>\n",
       "    </tr>\n",
       "    <tr>\n",
       "      <td>3</td>\n",
       "      <td>2019-10-31 10:04:00</td>\n",
       "      <td>a012I00000k6NHw</td>\n",
       "      <td>Background Check Info</td>\n",
       "      <td>Background Check Info: Candidate BGC Info Comp...</td>\n",
       "      <td>FC Associate I</td>\n",
       "      <td>T1 - Seasonal - Part Time - OAK5</td>\n",
       "      <td>CA</td>\n",
       "      <td>CA</td>\n",
       "      <td>Donavon Casaray</td>\n",
       "      <td>Oakley</td>\n",
       "      <td>California</td>\n",
       "      <td>9257835542</td>\n",
       "      <td>0.0</td>\n",
       "      <td>None</td>\n",
       "      <td>0</td>\n",
       "      <td>0</td>\n",
       "      <td>None</td>\n",
       "    </tr>\n",
       "    <tr>\n",
       "      <td>4</td>\n",
       "      <td>2019-10-31 09:06:00</td>\n",
       "      <td>a012I00000k67k1</td>\n",
       "      <td>Contingent Offer</td>\n",
       "      <td>Contingent Offer: Job Description</td>\n",
       "      <td>FC Associate I</td>\n",
       "      <td>T1 - Seasonal - Part Time - OAK5</td>\n",
       "      <td>CA</td>\n",
       "      <td>CA</td>\n",
       "      <td>Miguel Villalobos</td>\n",
       "      <td>San Jose</td>\n",
       "      <td>California</td>\n",
       "      <td>6694006225</td>\n",
       "      <td>0.0</td>\n",
       "      <td>None</td>\n",
       "      <td>0</td>\n",
       "      <td>0</td>\n",
       "      <td>None</td>\n",
       "    </tr>\n",
       "    <tr>\n",
       "      <td>...</td>\n",
       "      <td>...</td>\n",
       "      <td>...</td>\n",
       "      <td>...</td>\n",
       "      <td>...</td>\n",
       "      <td>...</td>\n",
       "      <td>...</td>\n",
       "      <td>...</td>\n",
       "      <td>...</td>\n",
       "      <td>...</td>\n",
       "      <td>...</td>\n",
       "      <td>...</td>\n",
       "      <td>...</td>\n",
       "      <td>...</td>\n",
       "      <td>...</td>\n",
       "      <td>...</td>\n",
       "      <td>...</td>\n",
       "      <td>...</td>\n",
       "    </tr>\n",
       "    <tr>\n",
       "      <td>29994</td>\n",
       "      <td>NaT</td>\n",
       "      <td>None</td>\n",
       "      <td>None</td>\n",
       "      <td>None</td>\n",
       "      <td>None</td>\n",
       "      <td>None</td>\n",
       "      <td>None</td>\n",
       "      <td>None</td>\n",
       "      <td>None</td>\n",
       "      <td>None</td>\n",
       "      <td>None</td>\n",
       "      <td>None</td>\n",
       "      <td>NaN</td>\n",
       "      <td>None</td>\n",
       "      <td>None</td>\n",
       "      <td>None</td>\n",
       "      <td>None</td>\n",
       "    </tr>\n",
       "    <tr>\n",
       "      <td>29995</td>\n",
       "      <td>NaT</td>\n",
       "      <td>None</td>\n",
       "      <td>None</td>\n",
       "      <td>None</td>\n",
       "      <td>None</td>\n",
       "      <td>None</td>\n",
       "      <td>None</td>\n",
       "      <td>None</td>\n",
       "      <td>None</td>\n",
       "      <td>None</td>\n",
       "      <td>None</td>\n",
       "      <td>None</td>\n",
       "      <td>NaN</td>\n",
       "      <td>None</td>\n",
       "      <td>None</td>\n",
       "      <td>None</td>\n",
       "      <td>None</td>\n",
       "    </tr>\n",
       "    <tr>\n",
       "      <td>29996</td>\n",
       "      <td>NaT</td>\n",
       "      <td>None</td>\n",
       "      <td>None</td>\n",
       "      <td>None</td>\n",
       "      <td>None</td>\n",
       "      <td>None</td>\n",
       "      <td>None</td>\n",
       "      <td>None</td>\n",
       "      <td>None</td>\n",
       "      <td>None</td>\n",
       "      <td>None</td>\n",
       "      <td>None</td>\n",
       "      <td>NaN</td>\n",
       "      <td>None</td>\n",
       "      <td>None</td>\n",
       "      <td>None</td>\n",
       "      <td>None</td>\n",
       "    </tr>\n",
       "    <tr>\n",
       "      <td>29997</td>\n",
       "      <td>NaT</td>\n",
       "      <td>None</td>\n",
       "      <td>None</td>\n",
       "      <td>None</td>\n",
       "      <td>None</td>\n",
       "      <td>None</td>\n",
       "      <td>None</td>\n",
       "      <td>None</td>\n",
       "      <td>None</td>\n",
       "      <td>None</td>\n",
       "      <td>None</td>\n",
       "      <td>None</td>\n",
       "      <td>NaN</td>\n",
       "      <td>None</td>\n",
       "      <td>None</td>\n",
       "      <td>None</td>\n",
       "      <td>None</td>\n",
       "    </tr>\n",
       "    <tr>\n",
       "      <td>29998</td>\n",
       "      <td>NaT</td>\n",
       "      <td>None</td>\n",
       "      <td>None</td>\n",
       "      <td>None</td>\n",
       "      <td>None</td>\n",
       "      <td>None</td>\n",
       "      <td>None</td>\n",
       "      <td>None</td>\n",
       "      <td>None</td>\n",
       "      <td>None</td>\n",
       "      <td>None</td>\n",
       "      <td>None</td>\n",
       "      <td>NaN</td>\n",
       "      <td>None</td>\n",
       "      <td>None</td>\n",
       "      <td>None</td>\n",
       "      <td>None</td>\n",
       "    </tr>\n",
       "  </tbody>\n",
       "</table>\n",
       "<p>29999 rows × 17 columns</p>\n",
       "</div>"
      ],
      "text/plain": [
       "      Application eSignature Date/Time   Application ID  \\\n",
       "0                  2019-10-31 11:11:00  a012I00000k6QPS   \n",
       "1                  2019-10-31 11:06:00  a012I00000k5pAe   \n",
       "2                  2019-10-31 11:00:00  a012I00000k6PK3   \n",
       "3                  2019-10-31 10:04:00  a012I00000k6NHw   \n",
       "4                  2019-10-31 09:06:00  a012I00000k67k1   \n",
       "...                                ...              ...   \n",
       "29994                              NaT             None   \n",
       "29995                              NaT             None   \n",
       "29996                              NaT             None   \n",
       "29997                              NaT             None   \n",
       "29998                              NaT             None   \n",
       "\n",
       "                        Step  \\\n",
       "0         Candidate Schedule   \n",
       "1         Candidate Schedule   \n",
       "2         Candidate Schedule   \n",
       "3      Background Check Info   \n",
       "4           Contingent Offer   \n",
       "...                      ...   \n",
       "29994                   None   \n",
       "29995                   None   \n",
       "29996                   None   \n",
       "29997                   None   \n",
       "29998                   None   \n",
       "\n",
       "                                           Step: Substep  \\\n",
       "0                    Candidate Schedule: Shift Selection   \n",
       "1                    Candidate Schedule: Shift Selection   \n",
       "2                    Candidate Schedule: Shift Selection   \n",
       "3      Background Check Info: Candidate BGC Info Comp...   \n",
       "4                      Contingent Offer: Job Description   \n",
       "...                                                  ...   \n",
       "29994                                               None   \n",
       "29995                                               None   \n",
       "29996                                               None   \n",
       "29997                                               None   \n",
       "29998                                               None   \n",
       "\n",
       "      Requisition: Job Title        Requisition: Requisition Title  \\\n",
       "0             FC Associate I  T1 Node Requisition- OAK5 - SFO East   \n",
       "1             FC Associate I  T1 Node Requisition- OAK5 - SFO East   \n",
       "2             FC Associate I  T1 Node Requisition- OAK5 - SFO East   \n",
       "3             FC Associate I      T1 - Seasonal - Part Time - OAK5   \n",
       "4             FC Associate I      T1 - Seasonal - Part Time - OAK5   \n",
       "...                      ...                                   ...   \n",
       "29994                   None                                  None   \n",
       "29995                   None                                  None   \n",
       "29996                   None                                  None   \n",
       "29997                   None                                  None   \n",
       "29998                   None                                  None   \n",
       "\n",
       "      Location State Requisition: Location Code: State  \\\n",
       "0                 CA                                CA   \n",
       "1                 CA                                CA   \n",
       "2                 CA                                CA   \n",
       "3                 CA                                CA   \n",
       "4                 CA                                CA   \n",
       "...              ...                               ...   \n",
       "29994           None                              None   \n",
       "29995           None                              None   \n",
       "29996           None                              None   \n",
       "29997           None                              None   \n",
       "29998           None                              None   \n",
       "\n",
       "      Candidate: Candidate Name: Candidate Name  \\\n",
       "0                             Ventricia Johnson   \n",
       "1                               sandra martinez   \n",
       "2                                   david Ortiz   \n",
       "3                               Donavon Casaray   \n",
       "4                             Miguel Villalobos   \n",
       "...                                         ...   \n",
       "29994                                      None   \n",
       "29995                                      None   \n",
       "29996                                      None   \n",
       "29997                                      None   \n",
       "29998                                      None   \n",
       "\n",
       "      Candidate: Current Mailing City  \\\n",
       "0                             Oakland   \n",
       "1                              Newark   \n",
       "2                       Oklahoma City   \n",
       "3                              Oakley   \n",
       "4                            San Jose   \n",
       "...                               ...   \n",
       "29994                            None   \n",
       "29995                            None   \n",
       "29996                            None   \n",
       "29997                            None   \n",
       "29998                            None   \n",
       "\n",
       "      Candidate: Current Mailing State/Province Candidate: Mobile Phone  \\\n",
       "0                                    California              5109042529   \n",
       "1                                    California              5107559682   \n",
       "2                                      Oklahoma              4059002040   \n",
       "3                                    California              9257835542   \n",
       "4                                    California              6694006225   \n",
       "...                                         ...                     ...   \n",
       "29994                                      None                    None   \n",
       "29995                                      None                    None   \n",
       "29996                                      None                    None   \n",
       "29997                                      None                    None   \n",
       "29998                                      None                    None   \n",
       "\n",
       "       Offer Out Background Check Status More Than One Application?  \\\n",
       "0            0.0                    None                          1   \n",
       "1            0.0                    None                          1   \n",
       "2            0.0                    None                          0   \n",
       "3            0.0                    None                          0   \n",
       "4            0.0                    None                          0   \n",
       "...          ...                     ...                        ...   \n",
       "29994        NaN                    None                       None   \n",
       "29995        NaN                    None                       None   \n",
       "29996        NaN                    None                       None   \n",
       "29997        NaN                    None                       None   \n",
       "29998        NaN                    None                       None   \n",
       "\n",
       "      Application Withdrawn Candidate Withdraws Detail  \n",
       "0                         0                       None  \n",
       "1                         0                       None  \n",
       "2                         0                       None  \n",
       "3                         0                       None  \n",
       "4                         0                       None  \n",
       "...                     ...                        ...  \n",
       "29994                  None                       None  \n",
       "29995                  None                       None  \n",
       "29996                  None                       None  \n",
       "29997                  None                       None  \n",
       "29998                  None                       None  \n",
       "\n",
       "[29999 rows x 17 columns]"
      ]
     },
     "execution_count": 1,
     "metadata": {},
     "output_type": "execute_result"
    }
   ],
   "source": [
    "import pandas as pd\n",
    "import xlwings as xw\n",
    "import re\n",
    "\n",
    "#Excel will try to open the workbook after the line of code below is ran. The password needs to be entered\n",
    "wbname = input(\"Enter the file name (eg.OAK5 WH Funnel 10.31.19), if you have done this step before and have not restarted the kernel just press enter : \")\n",
    "\n",
    "if wbname == \"\":\n",
    "    wbname= wbnamecopy\n",
    "\n",
    "wbnamecopy = wbname\n",
    "wbnameold = 'MKE1 MKE5 WH Funnel Walk In 11.1.19'\n",
    "\n",
    "\n",
    "wb = xw.Book('{}.xls'.format(wbname))\n",
    "\n",
    "reportname = input(\"Enter sheet name (eg.report1572545576522), if you have done this step before and have not restarted the kernel just press enter : \")\n",
    "if reportname == \"\":\n",
    "    reportname= reportnamecopy\n",
    "    \n",
    "reportnamecopy = reportname\n",
    "sheet = wb.sheets[reportname]\n",
    "\n",
    "\n",
    "df = sheet['A1:Q30000'].options(pd.DataFrame, index=False, header=True).value\n",
    "\n",
    "df"
   ]
  },
  {
   "cell_type": "markdown",
   "metadata": {},
   "source": [
    "We define the sitecode by taking the first word of the filename"
   ]
  },
  {
   "cell_type": "code",
   "execution_count": 2,
   "metadata": {},
   "outputs": [],
   "source": [
    "sitecode = wbname.split(' ', 1)[0]"
   ]
  },
  {
   "cell_type": "markdown",
   "metadata": {},
   "source": [
    "Then we are going to be deleting the rows that don't have cell phone numbers."
   ]
  },
  {
   "cell_type": "code",
   "execution_count": 3,
   "metadata": {},
   "outputs": [
    {
     "name": "stdout",
     "output_type": "stream",
     "text": [
      "Phone number amount before rows dropped is 29999\n",
      "Phone number amount after rows dropped is 2127\n"
     ]
    }
   ],
   "source": [
    "numbers = df['Candidate: Mobile Phone']\n",
    "print('Phone number amount before rows dropped is {}'.format(len(numbers)))\n",
    "\n",
    "#Remove rows with no cell phone numbers\n",
    "df1 = df[pd.notnull(numbers)]\n",
    "numbers1 = df1['Candidate: Mobile Phone']\n",
    "\n",
    "print('Phone number amount after rows dropped is {}'.format(len(numbers1)))\n"
   ]
  },
  {
   "cell_type": "code",
   "execution_count": 4,
   "metadata": {
    "scrolled": true
   },
   "outputs": [
    {
     "name": "stdout",
     "output_type": "stream",
     "text": [
      "0       5109042529\n",
      "1       5107559682\n",
      "2       4059002040\n",
      "3       9257835542\n",
      "4       6694006225\n",
      "           ...    \n",
      "2128    5109406269\n",
      "2129    4152343181\n",
      "2130    5107591270\n",
      "2131    2098465224\n",
      "2132    3052009475\n",
      "Name: Candidate: Mobile Phone, Length: 2127, dtype: object\n"
     ]
    }
   ],
   "source": [
    "print(df1[\"Candidate: Mobile Phone\"])"
   ]
  },
  {
   "cell_type": "markdown",
   "metadata": {},
   "source": [
    "In the next step we clean the phone numbers, names of candidates and cities"
   ]
  },
  {
   "cell_type": "code",
   "execution_count": 27,
   "metadata": {},
   "outputs": [],
   "source": [
    "#Replace characters such as \"'\"\n",
    "df1[\"Candidate: Mobile Phone\"] = df1[\"Candidate: Mobile Phone\"].str.replace('(', '')\n",
    "df1[\"Candidate: Mobile Phone\"] = df1[\"Candidate: Mobile Phone\"].str.replace(')', '')\n",
    "df1[\"Candidate: Mobile Phone\"] = df1[\"Candidate: Mobile Phone\"].str.replace('-', '')\n",
    "df1[\"Candidate: Mobile Phone\"] = df1[\"Candidate: Mobile Phone\"].str.replace(' ', '')\n",
    "df1[\"Candidate: Mobile Phone\"] = df1[\"Candidate: Mobile Phone\"].str.replace('.', '')\n",
    "df1[\"Candidate: Mobile Phone\"] = df1[\"Candidate: Mobile Phone\"].str.replace('+', '')\n",
    "df1[\"Candidate: Mobile Phone\"] = df1[\"Candidate: Mobile Phone\"].replace(to_replace ='1[0-9]{10}', value = df1[\"Candidate: Mobile Phone\"].str[-10:], regex = True) \n",
    "df1['Candidate: Candidate Name: Candidate Name'] = df1['Candidate: Candidate Name: Candidate Name'].str.replace(\"'\",\"''\")\n",
    "df1['Candidate: Current Mailing City'] = df1['Candidate: Current Mailing City'].str.replace(\"'\",\"''\")\n"
   ]
  },
  {
   "cell_type": "code",
   "execution_count": 6,
   "metadata": {},
   "outputs": [
    {
     "name": "stdout",
     "output_type": "stream",
     "text": [
      "0       5109042529\n",
      "1       5107559682\n",
      "2       4059002040\n",
      "3       9257835542\n",
      "4       6694006225\n",
      "           ...    \n",
      "2128    5109406269\n",
      "2129    4152343181\n",
      "2130    5107591270\n",
      "2131    2098465224\n",
      "2132    3052009475\n",
      "Name: Candidate: Mobile Phone, Length: 2127, dtype: object\n"
     ]
    }
   ],
   "source": [
    "print(df1[\"Candidate: Mobile Phone\"])"
   ]
  },
  {
   "cell_type": "markdown",
   "metadata": {},
   "source": [
    "After cleaning we keep only the rows where the phone number length is 10"
   ]
  },
  {
   "cell_type": "code",
   "execution_count": 7,
   "metadata": {},
   "outputs": [
    {
     "name": "stdout",
     "output_type": "stream",
     "text": [
      "2101\n"
     ]
    }
   ],
   "source": [
    "#Keep only rows where the phone number length is 10\n",
    "df1['Candidate: Mobile Phone'] = df1['Candidate: Mobile Phone'].astype('str')\n",
    "mask = (df1['Candidate: Mobile Phone'].str.len() == 10)\n",
    "df1 = df1.loc[mask]\n",
    "print(len(df1['Candidate: Mobile Phone']))\n",
    "\n",
    "warnings.filterwarnings('ignore')"
   ]
  },
  {
   "cell_type": "markdown",
   "metadata": {},
   "source": [
    "The code below is to be able to use a file for dictionaries"
   ]
  },
  {
   "cell_type": "code",
   "execution_count": 8,
   "metadata": {},
   "outputs": [
    {
     "data": {
      "text/plain": [
       "\"import pandas as pd\\nimport xlwings as xw\\nimport re\\n\\n#Excel will try to open the workbook after the line of code below is ran. The password needs to be entered\\nwbname_path= 'Keys Py'\\n\\n\\nwb = xw.Book('{}.xlsx'.format(wbname_path))\\n\\nsheet = wb.sheets['Sheet1']\\n\\nkeysampledf = sheet['A1:B30000'].options(pd.DataFrame, index=False, header=False).value\\nkeysampledf = keysampledf[pd.notnull(keysampledf[1])]\\n\\nkeysampledf[1] = keysampledf[1].astype('int')\\n\\nkeysampledf[0] = keysampledf[0].astype('str')\\nkeysampledf[1] = keysampledf[1].astype('str')\\n\\n\\n#Delete null rows\\nsitecodekeys = keysampledf[0]\\nkeysdf = keysampledf[pd.notnull(sitecodekeys)]\\n\\nlistid_to_sitecode = dict(zip(keysampledf[0], keysampledf[1]))\\n\""
      ]
     },
     "execution_count": 8,
     "metadata": {},
     "output_type": "execute_result"
    }
   ],
   "source": [
    "'''import pandas as pd\n",
    "import xlwings as xw\n",
    "import re\n",
    "\n",
    "#Excel will try to open the workbook after the line of code below is ran. The password needs to be entered\n",
    "wbname_path= 'Keys Py'\n",
    "\n",
    "\n",
    "wb = xw.Book('{}.xlsx'.format(wbname_path))\n",
    "\n",
    "sheet = wb.sheets['Sheet1']\n",
    "\n",
    "keysampledf = sheet['A1:B30000'].options(pd.DataFrame, index=False, header=False).value\n",
    "keysampledf = keysampledf[pd.notnull(keysampledf[1])]\n",
    "\n",
    "keysampledf[1] = keysampledf[1].astype('int')\n",
    "\n",
    "keysampledf[0] = keysampledf[0].astype('str')\n",
    "keysampledf[1] = keysampledf[1].astype('str')\n",
    "\n",
    "\n",
    "#Delete null rows\n",
    "sitecodekeys = keysampledf[0]\n",
    "keysdf = keysampledf[pd.notnull(sitecodekeys)]\n",
    "\n",
    "listid_to_sitecode = dict(zip(keysampledf[0], keysampledf[1]))\n",
    "'''"
   ]
  },
  {
   "cell_type": "code",
   "execution_count": 9,
   "metadata": {},
   "outputs": [],
   "source": [
    "listid_to_sitecode = {\"CVG\":\"111177\",\n",
    "\"STC\":\"111199\",\n",
    "\"BOS\":\"1112007\",\n",
    "\"BVL\":\"1112012\",\n",
    "\"SMT\":\"111198\",\n",
    "\"SOM\":\"111202\",\n",
    "\"CLE2\":\"1112019\",\n",
    "\"DAU\":\"111194\",\n",
    "\"CMH3\":\"1112021\",\n",
    "\"OCN\":\"111202\",\n",
    "\"DCM1\":\"1112017\",\n",
    "\"SLC1\":\"111208\",\n",
    "\"CLE3\":\"1112020\",\n",
    "\"CAS\":\"111202\",\n",
    "\"UWA1\":\"111205\",\n",
    "\"BOS7\":\"111201\",\n",
    "\"LAT\":\"111199\",\n",
    "\"DPD5\":\"111193\",\n",
    "\"KILN\":\"111166\",\n",
    "\"SMF5\":\"1112016\",\n",
    "\"PIT5\":\"1112011\",\n",
    "\"SJC9\":\"1112008\",\n",
    "\"DRI1\":\"111162\",\n",
    "\"PNE5\":\"111169\",\n",
    "\"DEN\":\"111189\",\n",
    "\"DDE\":\"111190\",\n",
    "\"BOS\":\"1112007\",\n",
    "\"UCA1\":\"111202\",\n",
    "\"PDX9\":\"111204\",\n",
    "\"OAK5\":\"111195\",\n",
    "\"DBO7\":\"1112001\",\n",
    "\"PTH\":\"111202\",\n",
    "\"FRK\":\"111202\",\n",
    "\"CVG\":\"111177\",\n",
    "\"STC\":\"111199\",\n",
    "\"BOS\":\"1112007\",\n",
    "\"BVL\":\"1112012\",\n",
    "\"SMT\":\"111198\",\n",
    "\"SOM\":\"111202\",\n",
    "\"CLE2\":\"1112019\",\n",
    "\"DAU\":\"111194\",\n",
    "\"CMH3\":\"1112021\",\n",
    "\"OCN\":\"111202\",\n",
    "\"DCM1\":\"1112017\",\n",
    "\"SLC1\":\"111208\",\n",
    "\"CLE3\":\"1112020\",\n",
    "\"CAS\":\"111202\",\n",
    "\"UWA1\":\"111205\",\n",
    "\"BOS7\":\"111201\",\n",
    "\"LAT\":\"111199\",\n",
    "\"DPD5\":\"111193\",\n",
    "\"KILN\":\"111166\",\n",
    "\"SMF5\":\"1112016\",\n",
    "\"PIT5\":\"1112011\",\n",
    "\"SJC9\":\"1112008\",\n",
    "\"DRI1\":\"111162\",\n",
    "\"PNE5\":\"111169\",\n",
    "\"DEN\":\"111189\",\n",
    "\"DDE\":\"111190\",\n",
    "\"BOS\":\"1112007\",\n",
    "\"UCA1\":\"111202\",\n",
    "\"PDX9\":\"111204\",\n",
    "\"OAK5\":\"111195\",\n",
    "\"HPT1\":\"1112039\",\n",
    "\"MSP5\":\"1112056\",\n",
    "\"DPP1\":\"1112057\",\n",
    "\"MKE1\":\"1112058\", \n",
    "\"MKE5\":\"1112058\"}"
   ]
  },
  {
   "cell_type": "code",
   "execution_count": 10,
   "metadata": {},
   "outputs": [],
   "source": [
    "compensation_to_sitecode = {\"DBO7\":\"$16.25 per hour\",\n",
    "\"PTH\":\"Minimum $17.25 per hour\",\n",
    "\"FRK\":\"Minimum $17.25 per hour\",\n",
    "\"CVG\":\"Minimum $15 per hour\",\n",
    "\"STC\":\"$15.25-$17.50 per hour\",\n",
    "\"BOS\":\"Minimum $15.25 per hour\",\n",
    "\"BVL\":\"Minimum $15.00 per hour\",\n",
    "\"SMT\":\"Minimum $17.25 per hour\",\n",
    "\"SOM\":\"Minimum $17.25 per hour\",\n",
    "\"CLE2\":\"Minimum $15.00 per hour\",\n",
    "\"DAU\":\"$16.25 per hour\",\n",
    "\"CMH3\":\"Minimum $15.00 per hour\",\n",
    "\"OCN\":\"Minimum $17.25 per hour\",\n",
    "\"DCM1\":\"Minimum $15.00 per hour\",\n",
    "\"SLC1\":\"Minimum $15 per hour\",\n",
    "\"CLE3\":\"Minimum $15.00 per hour\",\n",
    "\"CAS\":\"Minimum $17.25 per hour\",\n",
    "\"UWA1\":\"Minimum $15 per hour\",\n",
    "\"BOS7\":\"$15.00-$16.15 per hour\",\n",
    "\"LAT\":\"$15.25-$17.50 per hour\",\n",
    "\"DPD5\":\"$15.00-17.00 per hour\",\n",
    "\"KILN\":\"$15.60-$16.15 per hour\",\n",
    "\"SMF5\":\"Minimum $15.50 per hour\",\n",
    "\"PIT5\":\"Minimum $15.00 per hour\",\n",
    "\"SJC9\":\"$17.25 per hour\",\n",
    "\"DRI1\":\"$17.25 per hour\",\n",
    "\"PNE5\":\"Minimum $15.60 per hour\",\n",
    "\"DEN\":\"Minimum $15 per hour\",\n",
    "\"DDE\":\"$17.25 per hour\",\n",
    "\"BOS\":\"Minimum $15.00 per hour\",\n",
    "\"UCA1\":\"Minimum $17.25 per hour\",\n",
    "\"PDX9\":\"$15.00-$17.00 per hour\",\n",
    "\"OAK5\":\"$15.40-$16.50 per hour\",\n",
    "\"HPT1\": \"Minimum $15 per hour\",\n",
    "\"MSP5\":\"Minimum $15 per hour\",\n",
    "\"DPP1\":\"Minimum $15 per hour\",\n",
    "\"MKE1\":\"$20 per hour\", \n",
    "\"MKE5\":\"$20 per hour\"}"
   ]
  },
  {
   "cell_type": "markdown",
   "metadata": {},
   "source": [
    "We define a function for find and replace using a dictionary"
   ]
  },
  {
   "cell_type": "code",
   "execution_count": 11,
   "metadata": {},
   "outputs": [],
   "source": [
    "import re\n",
    "\n",
    "def find_replace_multi(string, dictionary):\n",
    "    for item in dictionary.keys():\n",
    "        # sub item for item's paired value in string\n",
    "        string = re.sub(item, dictionary[item], string)\n",
    "    return string"
   ]
  },
  {
   "cell_type": "markdown",
   "metadata": {},
   "source": [
    "We apply the function to be able to define our listids and compensation"
   ]
  },
  {
   "cell_type": "code",
   "execution_count": 12,
   "metadata": {},
   "outputs": [],
   "source": [
    "listid = find_replace_multi(sitecode, listid_to_sitecode)\n",
    "compensation = find_replace_multi(sitecode, compensation_to_sitecode)"
   ]
  },
  {
   "cell_type": "markdown",
   "metadata": {},
   "source": [
    "We print them to make sure that they are right"
   ]
  },
  {
   "cell_type": "code",
   "execution_count": 13,
   "metadata": {
    "scrolled": true
   },
   "outputs": [
    {
     "name": "stdout",
     "output_type": "stream",
     "text": [
      "111195\n",
      "$15.40-$16.50 per hour\n"
     ]
    },
    {
     "data": {
      "text/plain": [
       "2101"
      ]
     },
     "execution_count": 13,
     "metadata": {},
     "output_type": "execute_result"
    }
   ],
   "source": [
    "print(listid)\n",
    "print(compensation)\n",
    "len(df1['Candidate: Mobile Phone'])"
   ]
  },
  {
   "cell_type": "markdown",
   "metadata": {},
   "source": [
    "We create a dictionary with all the states to be able to use the abbreviated version"
   ]
  },
  {
   "cell_type": "code",
   "execution_count": 14,
   "metadata": {},
   "outputs": [],
   "source": [
    "wrong_states = {'AK': 'Alaska',\n",
    "        'AL': 'Alabama',\n",
    "        'AR': 'Arkansas',\n",
    "        'AS': 'American Samoa',\n",
    "        'AZ': 'Arizona',\n",
    "        'CA': 'California',\n",
    "        'CO': 'Colorado',\n",
    "        'CT': 'Connecticut',\n",
    "        'DC': 'District of Columbia',\n",
    "        'DE': 'Delaware',\n",
    "        'FL': 'Florida',\n",
    "        'GA': 'Georgia',\n",
    "        'GU': 'Guam',\n",
    "        'HI': 'Hawaii',\n",
    "        'IA': 'Iowa',\n",
    "        'ID': 'Idaho',\n",
    "        'IL': 'Illinois',\n",
    "        'IN': 'Indiana',\n",
    "        'KS': 'Kansas',\n",
    "        'KY': 'Kentucky',\n",
    "        'LA': 'Louisiana',\n",
    "        'MA': 'Massachusetts',\n",
    "        'MD': 'Maryland',\n",
    "        'ME': 'Maine',\n",
    "        'MI': 'Michigan',\n",
    "        'MN': 'Minnesota',\n",
    "        'MO': 'Missouri',\n",
    "        'MP': 'Northern Mariana Islands',\n",
    "        'MS': 'Mississippi',\n",
    "        'MT': 'Montana',\n",
    "        'NA': 'National',\n",
    "        'NC': 'North Carolina',\n",
    "        'ND': 'North Dakota',\n",
    "        'NE': 'Nebraska',\n",
    "        'NH': 'New Hampshire',\n",
    "        'NJ': 'New Jersey',\n",
    "        'NM': 'New Mexico',\n",
    "        'NV': 'Nevada',\n",
    "        'NY': 'New York',\n",
    "        'OH': 'Ohio',\n",
    "        'OK': 'Oklahoma',\n",
    "        'OR': 'Oregon',\n",
    "        'PA': 'Pennsylvania',\n",
    "        'PR': 'Puerto Rico',\n",
    "        'RI': 'Rhode Island',\n",
    "        'SC': 'South Carolina',\n",
    "        'SD': 'South Dakota',\n",
    "        'TN': 'Tennessee',\n",
    "        'TX': 'Texas',\n",
    "        'UT': 'Utah',\n",
    "        'VA': 'Virginia',\n",
    "        'VI': 'Virgin Islands',\n",
    "        'VT': 'Vermont',\n",
    "        'WA': 'Washington',\n",
    "        'WI': 'Wisconsin',\n",
    "        'WV': 'West Virginia',\n",
    "        'WY': 'Wyoming'}\n",
    "#inverting the wrong_states dictionary\n",
    "states = {value: key for key, value in wrong_states.items()}\n"
   ]
  },
  {
   "cell_type": "markdown",
   "metadata": {},
   "source": [
    "We use the dictionary to abbreviate the state names"
   ]
  },
  {
   "cell_type": "code",
   "execution_count": 15,
   "metadata": {
    "scrolled": true
   },
   "outputs": [],
   "source": [
    "#State \n",
    "df1[\"Candidate: Current Mailing State/Province\"] = df1['Candidate: Current Mailing State/Province'].map(states)"
   ]
  },
  {
   "cell_type": "markdown",
   "metadata": {},
   "source": [
    "We change the abbreviated version of \"FC Associate\" to its full name"
   ]
  },
  {
   "cell_type": "code",
   "execution_count": 16,
   "metadata": {},
   "outputs": [],
   "source": [
    "#Associate Map\n",
    "df1[\"Requisition: Job Title\"] = df1[\"Requisition: Job Title\"].str.replace('FC Associate I', 'Fulfillment Center Associate')"
   ]
  },
  {
   "cell_type": "markdown",
   "metadata": {},
   "source": [
    "We create a new dataframe where we insert our altered columns and the contantenated(That was a hard word to type) columns"
   ]
  },
  {
   "cell_type": "code",
   "execution_count": 17,
   "metadata": {},
   "outputs": [],
   "source": [
    "df2 = df1[['Candidate: Mobile Phone',\n",
    "           'Candidate: Candidate Name: Candidate Name',\n",
    "          'Candidate: Current Mailing City',\n",
    "          'Candidate: Current Mailing State/Province',\n",
    "          'Application ID',\n",
    "           'Requisition: Job Title'\n",
    "          ]]\n",
    "df2.insert(5,\"site_code1\",sitecode)\n",
    "df2.insert(7,\"list_id\",listid)\n",
    "df2.insert(8,\"site_code2\",sitecode)\n",
    "df2.insert(9,\"compensation\",compensation)\n",
    "df2.insert(10,\"concat\",'(' + \"'\" + df1['Candidate: Mobile Phone'].astype(str) + \"'\"+\",\"+\"'\" + \n",
    "           df1['Candidate: Candidate Name: Candidate Name'].astype(str) + \"'\"+\",\"+\"'\" + \n",
    "           df1['Candidate: Current Mailing City'].astype(str) + \"'\"+\",\"+\"'\" + \n",
    "           df1['Candidate: Current Mailing State/Province'].astype(str) + \"'\"+\",\"+\"'\" + \n",
    "           df1['Application ID'].astype(str) + \"'\"+\",\"+\"'\" + \n",
    "           sitecode + \"'\"+\",\"+\"'\" + \n",
    "           df1['Requisition: Job Title'].astype(str) + \"'\"+\",\"+\"'\" + \n",
    "           listid + \"'\"+\",\"+\"'\" + \n",
    "           sitecode + \"'\"+\",\" + \"'\" +\n",
    "           compensation + \"'\"+\")\"+\",\")\n",
    "\n",
    "\n",
    "\n"
   ]
  },
  {
   "cell_type": "markdown",
   "metadata": {},
   "source": [
    "We look at the rows per state to determine which states we want to keep"
   ]
  },
  {
   "cell_type": "code",
   "execution_count": 18,
   "metadata": {},
   "outputs": [
    {
     "data": {
      "text/plain": [
       "CA    1651\n",
       "NJ     246\n",
       "NY      25\n",
       "FL      24\n",
       "NV      21\n",
       "TX      17\n",
       "DE      14\n",
       "GA      11\n",
       "AZ      11\n",
       "NC       7\n",
       "MO       6\n",
       "SC       6\n",
       "MI       5\n",
       "OR       4\n",
       "OK       4\n",
       "MD       4\n",
       "WA       4\n",
       "OH       4\n",
       "IL       4\n",
       "PA       3\n",
       "VA       2\n",
       "NE       2\n",
       "AL       2\n",
       "TN       2\n",
       "LA       1\n",
       "ND       1\n",
       "MA       1\n",
       "CO       1\n",
       "WI       1\n",
       "DC       1\n",
       "KY       1\n",
       "UT       1\n",
       "IN       1\n",
       "MS       1\n",
       "Name: Candidate: Current Mailing State/Province, dtype: int64"
      ]
     },
     "execution_count": 18,
     "metadata": {},
     "output_type": "execute_result"
    }
   ],
   "source": [
    "df2['Candidate: Current Mailing State/Province'].value_counts()"
   ]
  },
  {
   "cell_type": "markdown",
   "metadata": {},
   "source": [
    "This line is here so the user can alter the line after with the states that she wants to keep"
   ]
  },
  {
   "cell_type": "code",
   "execution_count": 19,
   "metadata": {},
   "outputs": [
    {
     "name": "stdout",
     "output_type": "stream",
     "text": [
      "Determine which states you want, type them into the State variable below(cell 19), then press enter to continue\n"
     ]
    },
    {
     "data": {
      "text/plain": [
       "''"
      ]
     },
     "execution_count": 19,
     "metadata": {},
     "output_type": "execute_result"
    }
   ],
   "source": [
    "input(\"Determine which states you want, type them into the State variable below(cell 19), then press enter to continue\")"
   ]
  },
  {
   "cell_type": "markdown",
   "metadata": {},
   "source": [
    "Before we press enter, we want to change the state variable to the states that we would like to keep. If only one state is gonna be listed leave the other state as null, if not enter the state name instead of null"
   ]
  },
  {
   "cell_type": "code",
   "execution_count": 20,
   "metadata": {},
   "outputs": [],
   "source": [
    "State ='CA','Null'\n",
    "\n",
    "\n",
    "df2 = df2[df2['Candidate: Current Mailing State/Province'].isin(State)]\n",
    "\n",
    "df2 = df2.sort_values(by=['Candidate: Current Mailing State/Province'])"
   ]
  },
  {
   "cell_type": "markdown",
   "metadata": {},
   "source": [
    "We do a check to see how many rows we have to make sure that the whole process worked"
   ]
  },
  {
   "cell_type": "code",
   "execution_count": 21,
   "metadata": {
    "scrolled": true
   },
   "outputs": [
    {
     "data": {
      "text/plain": [
       "1651"
      ]
     },
     "execution_count": 21,
     "metadata": {},
     "output_type": "execute_result"
    }
   ],
   "source": [
    "len(df2['Candidate: Mobile Phone'])"
   ]
  },
  {
   "cell_type": "markdown",
   "metadata": {},
   "source": [
    "Our new file will be created at our desktop"
   ]
  },
  {
   "cell_type": "code",
   "execution_count": 22,
   "metadata": {},
   "outputs": [],
   "source": [
    "path = r'/Users/ydemiralp/Desktop/{} For Dial.xlsx'.format(wbname)\n",
    "export_excel = df2.to_excel (path, index = None, header=False)"
   ]
  },
  {
   "cell_type": "markdown",
   "metadata": {},
   "source": [
    "This cell is to open the file that was created"
   ]
  },
  {
   "cell_type": "code",
   "execution_count": 23,
   "metadata": {
    "scrolled": true
   },
   "outputs": [
    {
     "data": {
      "text/plain": [
       "<Book [OAK5 WH Funnel 10.31.19 For Dial.xlsx]>"
      ]
     },
     "execution_count": 23,
     "metadata": {},
     "output_type": "execute_result"
    }
   ],
   "source": [
    "xw.Book(path)"
   ]
  },
  {
   "cell_type": "markdown",
   "metadata": {},
   "source": [
    "# Disclaimer - Work in Progress"
   ]
  },
  {
   "cell_type": "markdown",
   "metadata": {},
   "source": [
    "The rest of these cells are a work in progress, they are experiments to be able to define our dictionaries of list-id and compensation with a file"
   ]
  },
  {
   "cell_type": "code",
   "execution_count": 24,
   "metadata": {},
   "outputs": [],
   "source": [
    "#    amazondelivers"
   ]
  },
  {
   "cell_type": "markdown",
   "metadata": {},
   "source": [
    "Building a dictionary for:\n",
    "- site codes\n",
    "- list ids\n",
    "- compensation"
   ]
  },
  {
   "cell_type": "code",
   "execution_count": null,
   "metadata": {
    "scrolled": true
   },
   "outputs": [],
   "source": []
  },
  {
   "cell_type": "code",
   "execution_count": null,
   "metadata": {},
   "outputs": [],
   "source": []
  },
  {
   "cell_type": "code",
   "execution_count": 25,
   "metadata": {
    "scrolled": true
   },
   "outputs": [
    {
     "data": {
      "text/plain": [
       "{'CVG': '111177',\n",
       " 'STC': '111199',\n",
       " 'BOS': '1112007',\n",
       " 'BVL': '1112012',\n",
       " 'SMT': '111198',\n",
       " 'SOM': '111202',\n",
       " 'CLE2': '1112019',\n",
       " 'DAU': '111194',\n",
       " 'CMH3': '1112021',\n",
       " 'OCN': '111202',\n",
       " 'DCM1': '1112017',\n",
       " 'SLC1': '111208',\n",
       " 'CLE3': '1112020',\n",
       " 'CAS': '111202',\n",
       " 'UWA1': '111205',\n",
       " 'BOS7': '111201',\n",
       " 'LAT': '111199',\n",
       " 'DPD5': '111193',\n",
       " 'KILN': '111166',\n",
       " 'SMF5': '1112016',\n",
       " 'PIT5': '1112011',\n",
       " 'SJC9': '1112008',\n",
       " 'DRI1': '111162',\n",
       " 'PNE5': '111169',\n",
       " 'DEN': '111189',\n",
       " 'DDE': '111190',\n",
       " 'UCA1': '111202',\n",
       " 'PDX9': '111204',\n",
       " 'OAK5': '111195',\n",
       " 'DBO7': '1112001',\n",
       " 'PTH': '111202',\n",
       " 'FRK': '111202',\n",
       " 'HPT1': '1112039',\n",
       " 'MSP5': '1112056',\n",
       " 'DPP1': '1112057',\n",
       " 'MKE1': '1112058',\n",
       " 'MKE5': '1112058'}"
      ]
     },
     "execution_count": 25,
     "metadata": {},
     "output_type": "execute_result"
    }
   ],
   "source": [
    "listid_to_sitecode"
   ]
  },
  {
   "cell_type": "markdown",
   "metadata": {},
   "source": [
    "#Excel will try to open the workbook after the line of code below is ran. The password needs to be entered\n",
    "wb = xw.Book('{}.xlsx'.format(wbname_path))\n",
    "\n",
    "sheet = wb.sheets['Sheet2']\n",
    "\n",
    "keysampledf = sheet['A1:B30000'].options(pd.DataFrame, index=False, header=False).value\n",
    "keysampledf[0] = keysampledf[0].astype('str')\n",
    "keysampledf[1] = keysampledf[1].astype('str')\n",
    "\n",
    "\n",
    "#Delete null rows\n",
    "sitecodekeys1 = keysampledf[0]\n",
    "keysdf = keysampledf[pd.notnull(sitecodekeys1)]\n",
    "\n",
    "\n",
    "compensation_to_sitecode = dict(zip(keysampledf[0], keysampledf[1]))\n"
   ]
  }
 ],
 "metadata": {
  "kernelspec": {
   "display_name": "Python 3",
   "language": "python",
   "name": "python3"
  },
  "language_info": {
   "codemirror_mode": {
    "name": "ipython",
    "version": 3
   },
   "file_extension": ".py",
   "mimetype": "text/x-python",
   "name": "python",
   "nbconvert_exporter": "python",
   "pygments_lexer": "ipython3",
   "version": "3.7.4"
  }
 },
 "nbformat": 4,
 "nbformat_minor": 2
}
